


{
 "cells": [
  {
   "cell_type": "code",
   "execution_count": 1,
   "id": "15aa5fdf",
   "metadata": {},
   "outputs": [
    {
     "name": "stdout",
     "output_type": "stream",
     "text": [
      "0xa\n"
     ]
    }
   ],
   "source": [
    "binary_string = \"1010\"\n",
    "\n",
    "decimal_representation = int(binary_string, 2)\n",
    "hexadecimal_string = hex(decimal_representation)\n",
    "\n",
    "print(hexadecimal_string)"
   ]
  },
  {
   "cell_type": "code",
   "execution_count": null,
   "id": "fe49a1d2",
   "metadata": {},
   "outputs": [],
   "source": []
  }
 ],
 "metadata": {
  "kernelspec": {
   "display_name": "Python 3",
   "language": "python",
   "name": "python3"
  },
  "language_info": {
   "codemirror_mode": {
    "name": "ipython",
    "version": 3
   },
   "file_extension": ".py",
   "mimetype": "text/x-python",
   "name": "python",
   "nbconvert_exporter": "python",
   "pygments_lexer": "ipython3",
   "version": "3.8.8"
  }
 },
 "nbformat": 4,
 "nbformat_minor": 5
}
